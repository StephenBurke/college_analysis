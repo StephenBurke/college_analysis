{
 "cells": [
  {
   "attachments": {},
   "cell_type": "markdown",
   "metadata": {},
   "source": [
    "[MIT License](LICENSE)"
   ]
  },
  {
   "cell_type": "code",
   "execution_count": 1,
   "metadata": {},
   "outputs": [],
   "source": [
    "import numpy as np \n",
    "import pandas as pd\n",
    "\n",
    "df = pd.read_csv('top_colleges_2022.csv')\n",
    "df = df.drop(columns=['longitude', 'latitude', 'rank', 'medianBaseSalary'])\n",
    "df_vector = df.drop(columns=['phoneNumber', 'website', 'state'])\n",
    "\n",
    "# until we figure out how to deal with numbers need to pull them out\n",
    "\n",
    "df_vector = df_vector.drop(columns=['studentPopulation', 'yearFounded', \n",
    "'studentFacultyRatio', 'totalStudentPop', 'undergradPop', 'totalGrantAid', \n",
    "'percentOfStudentsFinAid', 'percentOfStudentsGrant'])"
   ]
  }
 ],
 "metadata": {
  "kernelspec": {
   "display_name": "college_anal",
   "language": "python",
   "name": "python3"
  },
  "language_info": {
   "codemirror_mode": {
    "name": "ipython",
    "version": 3
   },
   "file_extension": ".py",
   "mimetype": "text/x-python",
   "name": "python",
   "nbconvert_exporter": "python",
   "pygments_lexer": "ipython3",
   "version": "3.11.1"
  },
  "orig_nbformat": 4,
  "vscode": {
   "interpreter": {
    "hash": "d3cfaa9dde6695d477fee56bd1f52c32c6c8047c463749900f1033bf2e4ab266"
   }
  }
 },
 "nbformat": 4,
 "nbformat_minor": 2
}
