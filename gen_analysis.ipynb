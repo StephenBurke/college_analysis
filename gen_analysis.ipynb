{
 "cells": [
  {
   "attachments": {},
   "cell_type": "markdown",
   "metadata": {},
   "source": [
    "[MIT License](LICENSE)\n",
    "\n",
    "The [guide](https://towardsdatascience.com/hands-on-content-based-recommender-system-using-python-1d643bf314e4) I used to help devolop the recommendation system"
   ]
  },
  {
   "cell_type": "code",
   "execution_count": 1,
   "metadata": {},
   "outputs": [],
   "source": [
    "import numpy as np \n",
    "import pandas as pd\n",
    "import nltk\n",
    "import pickle\n",
    "from sklearn.feature_extraction.text import CountVectorizer\n",
    "from sklearn.metrics.pairwise import cosine_similarity\n",
    "from sklearn.preprocessing import LabelEncoder\n",
    "from nltk.corpus import stopwords\n",
    "from nltk.tokenize import word_tokenize\n",
    "\n",
    "df = pd.read_csv('top_colleges_2022.csv')\n",
    "df = df.drop(columns=['longitude', 'latitude', 'rank', 'medianBaseSalary'])\n",
    "df_vector = df.drop(columns=['phoneNumber', 'website'])\n",
    "\n",
    "# *until we figure out how to deal with numbers need to pull them out\n",
    "\n",
    "df_vector = df_vector.drop(columns=['studentPopulation', 'yearFounded', \n",
    "'studentFacultyRatio', 'totalStudentPop', 'undergradPop', 'totalGrantAid', \n",
    "'percentOfStudentsFinAid', 'percentOfStudentsGrant'])\n",
    "\n",
    "\n",
    "# returns a clean string\n",
    "def cleaner(dirty_string):\n",
    "    processed = dirty_string.replace(r'[^\\w\\d\\s]', ' ')\n",
    "    processed = processed.replace(r'\\s+', ' ')\n",
    "    processed = processed.replace(r'^\\s+|\\s+?$', '')\n",
    "    processed = processed.lower()\n",
    "    \n",
    "    return processed\n",
    "\n",
    "\n",
    "# returns school recommendations... in a way\n",
    "def prep_recommendations(index):\n",
    "    # ! requires outside data => need to clean\n",
    "    # requires cos_sim_data and df_vector\n",
    "    global index_recommend \n",
    "    global college_recommend\n",
    "\n",
    "    index_recommend = cos_sim_data.loc[index].sort_values(ascending = False).index.tolist()[1:6]\n",
    "    college_recommend =  df_vector['organizationName'].loc[index_recommend].values\n",
    "    result_p = {'School': college_recommend, 'Index':index_recommend}    \n",
    "\n",
    "    return result_p\n",
    "\n",
    "# returns school name\n",
    "def get_school(index):\n",
    "\n",
    "    return df_vector['organizationName'].loc[index]\n",
    "\n",
    "# returns school description\n",
    "def get_description(index):\n",
    "\n",
    "    return df_vector['description'].loc[index]\n",
    "\n",
    "# returns a list of school recommendations\n",
    "def get_school_recommendations():\n",
    "\n",
    "    school_array = [college for college in college_recommend]\n",
    "    return school_array\n",
    "\n",
    "# returns a list of school recommendation descriptions\n",
    "def get_school_recommendation_desc():\n",
    "    \n",
    "    desc_array = []\n",
    "    for q in range(len(college_recommend)):\n",
    "        desc_q = df_vector['description'].loc[index_recommend[q]]\n",
    "        desc_array.append(desc_q)\n",
    "\n",
    "    return desc_array\n",
    "\n",
    "# list of schools\n",
    "schools = df_vector['organizationName'].unique()\n",
    "\n",
    "# creates list of strings containing each row's content from df_vector\n",
    "\n",
    "row_list =[]\n",
    "  \n",
    "# iterate over each row\n",
    "for index, rows in df_vector.iterrows():\n",
    "\n",
    "    # create string for the current row\n",
    "    current_row = '{},{},{},{},{},{},{},{},{},{}'.format(rows.description, \n",
    "    rows.organizationName, rows.campusSetting, rows.city, rows.country, \n",
    "    rows.state, rows.region, rows.stateCode, rows.collegeType, \n",
    "    rows.carnegieClassification)\n",
    "\n",
    "    cleaned_row = cleaner(current_row)\n",
    "    row_list.append(cleaned_row)\n",
    "\n",
    "# store row_list as pickle\n",
    "with open('./flask-server/df_rows.bin', 'wb') as f:\n",
    "    pickle.dump(row_list, f)\n",
    "\n",
    "# load data\n",
    "with open('./flask-server/df_rows.bin', 'rb') as f:\n",
    "   row_data = pickle.load(f)\n",
    "\n",
    "\n",
    "# create vectorized lists\n",
    "vectorizer = CountVectorizer()\n",
    "X = vectorizer.fit_transform(row_data)\n",
    "\n",
    "vectorizer.get_feature_names_out()\n",
    "\n",
    "# find cosine similarities\n",
    "cos_sim_data = pd.DataFrame(cosine_similarity(X))\n"
   ]
  },
  {
   "cell_type": "code",
   "execution_count": 2,
   "metadata": {},
   "outputs": [
    {
     "name": "stdout",
     "output_type": "stream",
     "text": [
      "['The flagship school of the Illinois system, the University of Illinois, Urbana-Champaign boasts some of the top STEM programs in the U.S. The school is consistently ranked as one of the top schools for engineering and computer science. Computer science courses include the popular virtual reality elective that teaches students about the geometric modeling and optics behind VR. The school offers a range of merit and need-based scholarships, including the Illinois Commitment which guarantees free tuition for Illinois residents with family incomes of $61,000 or less. More than 7,000 students are a member of one of the around 90 Greek organizations on campus. On the field, the Fighting Illini compete in the Division I’s Big Ten conference and have captured 23 national championships. Silicon Valley venture capitalist and tech entrepreneur Marc Andreesen, actor and comedian Nick Offerman and Paypal cofounder Max Levchin all attended the university.', 'A large public school in the Queen City, the University of Cincinnati has long been a leader in higher education with over 190 fields of study. The three largest are nursing, marketing and psychology. <br>Main campus is two miles from vibrant Downtown Cincinnati, though UC has nine satellite locations in the Cincinnati area. <br>UC has a rich research tradition, making breakthrough contributions to the oral polio vaccine and the first antihistamine. The university received $525 million in research funding last year. <br>The UC Bearcats field 16 Division I varsity teams and are a powerhouse in the American Athletic Conference. Five former Bearcats took part in the Tokyo Olympics. <br>UC has produced some of the greatest athletes ever, including Baseball Hall of Famer Sandy Koufax and Basketball Hall of Famer Oscar Robertson, and some of the top leaders off the field like President William Taft and astronaut Neil Armstrong.', 'The University of Alabama at Birmingham is a public research university with roots as a medical college—a legacy it upholds today. <br>Undergraduates can major in over 50 areas of study, as well as pre-professional programs in law, medicine and dentistry and joint programs with the School of Medicine. UAB also offers some of its majors completely online. The College of Arts and Sciences, the Collat School of Business and the School of Nursing are the most popular schools. <br>Over 7,000 undergraduates participate in research at UAB and have the opportunity to present their research at the UAB EXPO, an event held twice a year. UAB received more than $325 million in research funding from the National Institute of Health in 2020, ranking 12th among public universities. The university is in the process of updating a number of its facilities, including its Science and Engineering complex. <br>The campus encompasses 100 city blocks and is steps away from the bustling city life of Birmingham. Students can take part in over 250 student organizations, Greek life and NCAA Division I sports. <br>About 58% of students who graduated in 2020 are employed and about 23% are continuing their education.', 'Despite being one of the largest universities in the state, the University of North Carolina, Charlotte provides students with individualized experiences through a robust curriculum. <br>Undergraduates can choose from over 170 majors across seven colleges. Popular programs include computer science, communication studies and health management. <br>The university has doubled its research expenditures over the last five years, and 90% of graduated students have participated in research or internships. <br>UNC Charlotte offers a number of merit scholarships, including the Levine Scholars, which covers the cost of attendance and four summer experiences, and major-specific awards like the Albert Engineering Leadership Scholars Program and the Belk Scholars Program in Business Analytics. <br>About 84% of the class of 2020 are either employed or in graduate school, with the majority remaining in North Carolina.', 'The University of Kansas, the state’s flagship research university, is known for its basketball team and large course offerings. The Lawrence, KS, campus spans about 860 wooded acres 0 miles west of Kansas City.<br>The Jayhawks play in 16 varsity NCAA Division I teams in the Big 12 conference. The football team has won three national championships in its history, and the track and field teams have won seven titles over the years. <br>The university has more than 5,000 courses in over 200 undergraduate fields of study. Communications and nursing are among the most popular programs, along with finance and psychology. <br>About 69% of students receive financial aid. The university offers merit scholarships of up to $40,000 for in-state students, as well as out-of-state scholarships that bring the cost of tuition close to in-state.<br>Notable alumni include basketball great Wilt Chamberlain, actor Paul Rudd and former Health and Human Services Secretary Kathleen Sebelius.']\n"
     ]
    }
   ],
   "source": [
    "prep_recommendations(2)\n",
    "print(get_school_recommendation_desc())"
   ]
  }
 ],
 "metadata": {
  "kernelspec": {
   "display_name": "college_anal",
   "language": "python",
   "name": "python3"
  },
  "language_info": {
   "codemirror_mode": {
    "name": "ipython",
    "version": 3
   },
   "file_extension": ".py",
   "mimetype": "text/x-python",
   "name": "python",
   "nbconvert_exporter": "python",
   "pygments_lexer": "ipython3",
   "version": "3.11.1"
  },
  "orig_nbformat": 4,
  "vscode": {
   "interpreter": {
    "hash": "d3cfaa9dde6695d477fee56bd1f52c32c6c8047c463749900f1033bf2e4ab266"
   }
  }
 },
 "nbformat": 4,
 "nbformat_minor": 2
}
