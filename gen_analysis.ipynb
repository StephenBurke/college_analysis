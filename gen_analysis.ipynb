{
 "cells": [
  {
   "attachments": {},
   "cell_type": "markdown",
   "metadata": {},
   "source": [
    "[MIT License](LICENSE)"
   ]
  },
  {
   "cell_type": "code",
   "execution_count": 7,
   "metadata": {},
   "outputs": [],
   "source": [
    "import numpy as np \n",
    "import pandas as pd\n",
    "from sklearn.feature_extraction.text import CountVectorizer\n",
    "from sklearn.metrics.pairwise import cosine_similarity\n",
    "\n",
    "\n",
    "df = pd.read_csv('top_colleges_2022.csv')\n",
    "df = df.drop(columns=['longitude', 'latitude', 'rank', 'medianBaseSalary'])\n",
    "df_vector = df.drop(columns=['phoneNumber', 'website'])\n",
    "\n",
    "# until we figure out how to deal with numbers need to pull them out\n",
    "\n",
    "df_vector = df_vector.drop(columns=['studentPopulation', 'yearFounded', \n",
    "'studentFacultyRatio', 'totalStudentPop', 'undergradPop', 'totalGrantAid', \n",
    "'percentOfStudentsFinAid', 'percentOfStudentsGrant'])\n",
    "\n",
    "# list of schools\n",
    "schools = df_vector['organizationName'].unique()\n",
    "\n",
    "# creates list of strings containing each row's content from df_vector\n",
    "\n",
    "# create an empty list\n",
    "row_list =[]\n",
    "  \n",
    "# iterate over each row\n",
    "for index, rows in df_vector.iterrows():\n",
    "\n",
    "    # create string for the current row\n",
    "    current_row = '{}{}{}{}{}{}{}{}{}{}'.format(rows.description, \n",
    "    rows.organizationName, rows.campusSetting, rows.city, rows.country, \n",
    "    rows.state, rows.region, rows.stateCode, rows.collegeType, \n",
    "    rows.carnegieClassification)\n",
    "      \n",
    "    # append the list to the final list\n",
    "    row_list.append(current_row)\n",
    "\n",
    "# create vectorized lists\n",
    "vectorizer = CountVectorizer()\n",
    "X = vectorizer.fit_transform(row_list)\n",
    "vectorizer.get_feature_names_out()\n",
    "\n",
    "# find cosine similarities\n",
    "cos_sim_data = pd.DataFrame(cosine_similarity(X))"
   ]
  }
 ],
 "metadata": {
  "kernelspec": {
   "display_name": "college_anal",
   "language": "python",
   "name": "python3"
  },
  "language_info": {
   "codemirror_mode": {
    "name": "ipython",
    "version": 3
   },
   "file_extension": ".py",
   "mimetype": "text/x-python",
   "name": "python",
   "nbconvert_exporter": "python",
   "pygments_lexer": "ipython3",
   "version": "3.11.1"
  },
  "orig_nbformat": 4,
  "vscode": {
   "interpreter": {
    "hash": "d3cfaa9dde6695d477fee56bd1f52c32c6c8047c463749900f1033bf2e4ab266"
   }
  }
 },
 "nbformat": 4,
 "nbformat_minor": 2
}
